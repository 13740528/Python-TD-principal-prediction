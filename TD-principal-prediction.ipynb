{
 "cells": [
  {
   "cell_type": "markdown",
   "id": "3e145424-bf56-47a9-ab6a-3b07f8710cbd",
   "metadata": {},
   "source": [
    "**Read the file and convert it into supervised data**"
   ]
  },
  {
   "cell_type": "code",
   "execution_count": 28,
   "id": "4367f68b-6b8c-462c-a292-ab187ad35a05",
   "metadata": {},
   "outputs": [],
   "source": [
    "import numpy as np\n",
    "import pandas as pd\n",
    "import warnings\n",
    "import statsmodels.api as sm\n",
    "from scikeras.wrappers import KerasRegressor\n",
    "from sklearn.exceptions import ConvergenceWarning\n",
    "from tensorflow.keras.optimizers import Adam\n",
    "\n",
    "\n",
    "\n",
    "# Load data\n",
    "\n",
    "features = ['ncloc', 'lines', 'files', 'classes', 'functions', 'comment_lines',\n",
    "            'bugs', 'vulnerabilities', 'code_smells', 'uncovered_lines',\n",
    "            'duplicated_lines', 'duplicated_blocks', 'duplicated_files', 'complexity',\n",
    "            'LSC', 'LBC', 'LC', 'LTCE', 'CCC', 'LMC', 'MNC', 'sqale_index']\n",
    "data = pd.read_csv('E:\\\\Experiment\\\\dataset\\\\Colossal-AI_dataset.csv')\n",
    "\n",
    "\n",
    "# print(len(features))\n",
    "\n",
    "# print(data[features].head())\n",
    "\n",
    "time_steps = 2\n",
    "\n",
    "# prediction period \n",
    "step_ahead = 7\n",
    "\n",
    "# Standardized feature column\n",
    "# scaler = StandardScaler()\n",
    "# data[features] = scaler.fit_transform(data[features])\n",
    "\n",
    "# Convert to Numpy array\n",
    "values = data[features].values\n",
    "\n",
    "# Convert time series data into supervised learning data\n",
    "def series_to_supervised(data, n_in=1, n_out=1, dropnan=True):\n",
    "    n_vars = 1 if type(data) is list else data.shape[1]\n",
    "    df = pd.DataFrame(data)\n",
    "    cols, names = list(), list()\n",
    "\n",
    "    for i in range(n_in, 0, -1):\n",
    "        cols.append(df.shift(i))\n",
    "        names += [(f'var{j + 1}(t-{i})') for j in range(n_vars)]\n",
    "\n",
    "    for i in range(0, n_out):\n",
    "        cols.append(df.shift(-i))\n",
    "        if i == 0:\n",
    "            names += [(f'var{j + 1}(t)') for j in range(n_vars)]\n",
    "        else:\n",
    "            names += [(f'var{j + 1}(t+{i})') for j in range(n_vars)]\n",
    "\n",
    "    agg = pd.concat(cols, axis=1)\n",
    "    agg.columns = names\n",
    "\n",
    "    if dropnan:\n",
    "        agg.dropna(inplace=True)\n",
    "    return agg\n",
    "\n",
    "reframed = series_to_supervised(values, n_in=time_steps, n_out=step_ahead)\n",
    "\n",
    "X = reframed.iloc[:, np.r_[0:len(features)-1, len(features):2*len(features)-1]].values\n",
    "y = reframed.iloc[:, -1].values\n",
    "\n"
   ]
  },
  {
   "cell_type": "markdown",
   "id": "bb41a90d-2576-4c85-9d09-b39be02f06b7",
   "metadata": {},
   "source": [
    "**linear**"
   ]
  },
  {
   "cell_type": "code",
   "execution_count": null,
   "id": "f10a108a-349e-4ef7-ae87-f8eb4088e65e",
   "metadata": {},
   "outputs": [],
   "source": [
    "from sklearn.linear_model import LinearRegression\n",
    "from sklearn.model_selection import train_test_split\n",
    "from sklearn.preprocessing import StandardScaler\n",
    "\n",
    "\n",
    "X_train, X_test, y_train, y_test = train_test_split(X, y, test_size = 0.2, random_state = 0, shuffle = False)\n",
    "\n",
    "scaler_X = StandardScaler()\n",
    "X_train = scaler_X.fit_transform(X_train)\n",
    "X_test = scaler_X.transform(X_test)\n",
    "\n",
    "scaler_y = StandardScaler()\n",
    "y_train = scaler_y.fit_transform(y_train.reshape(-1, 1))\n",
    "y_test = scaler_y.transform(y_test.reshape(-1, 1))\n",
    "\n",
    "regressor = LinearRegression()\n",
    "regressor.fit(X_train, y_train)\n",
    "y_pred = regressor.predict(X_test)"
   ]
  },
  {
   "cell_type": "markdown",
   "id": "ee4deb80-6461-455e-9b2e-a9f5b763aaa0",
   "metadata": {},
   "source": [
    "**Lasso**"
   ]
  },
  {
   "cell_type": "code",
   "execution_count": 27,
   "id": "bdfaa92f-e193-4d7a-af4f-3660ea8fc0c2",
   "metadata": {},
   "outputs": [
    {
     "name": "stdout",
     "output_type": "stream",
     "text": [
      "{'lasso__alpha': 0.1, 'lasso__max_iter': 100000}\n"
     ]
    }
   ],
   "source": [
    "# Use GridSearchCV to find the optimal parameters\n",
    "from sklearn.linear_model import Lasso\n",
    "from sklearn.model_selection import TimeSeriesSplit, GridSearchCV\n",
    "from sklearn.pipeline import Pipeline\n",
    "from sklearn.preprocessing import StandardScaler\n",
    "from sklearn.model_selection import train_test_split\n",
    "\n",
    "parameters = [\n",
    "        {'lasso__alpha': [0.1, 0.001, 0.0001, 0.00001],\n",
    "        'lasso__max_iter': [40000, 100000]},\n",
    "        ]\n",
    "\n",
    "pipeline = Pipeline([\n",
    "    ('scaler', StandardScaler()),\n",
    "    ('lasso', Lasso())\n",
    "])\n",
    "\n",
    "X_train, X_test, y_train, y_test = train_test_split(X, y, test_size = 0.2, random_state = 0, shuffle = False)\n",
    "\n",
    "tscv = TimeSeriesSplit(n_splits=5)\n",
    "\n",
    "grid_search = GridSearchCV(estimator = pipeline,\n",
    "                           param_grid = parameters,\n",
    "                           scoring='neg_mean_squared_error',\n",
    "                           cv = tscv)\n",
    "grid_search = grid_search.fit(X_train, y_train)\n",
    "best_accuracy = grid_search.best_score_\n",
    "best_parameters = grid_search.best_params_\n",
    "\n",
    "print(best_parameters)\n"
   ]
  },
  {
   "cell_type": "code",
   "execution_count": 20,
   "id": "3f3903bf-81cb-4b24-b0da-ce434981a1ab",
   "metadata": {},
   "outputs": [],
   "source": [
    "# training model\n",
    "from sklearn.linear_model import Lasso\n",
    "from sklearn.model_selection import train_test_split\n",
    "from sklearn.preprocessing import StandardScaler\n",
    "\n",
    "\n",
    "X_train, X_test, y_train, y_test = train_test_split(X, y, test_size = 0.2, random_state = 0, shuffle = False)\n",
    "\n",
    "scaler_X = StandardScaler()\n",
    "X_train = scaler_X.fit_transform(X_train)\n",
    "X_test = scaler_X.transform(X_test)\n",
    "\n",
    "scaler_y = StandardScaler()\n",
    "y_train = scaler_y.fit_transform(y_train.reshape(-1, 1))\n",
    "y_test = scaler_y.transform(y_test.reshape(-1, 1))\n",
    "\n",
    "regressor = Lasso(alpha=0.01)\n",
    "regressor.fit(X_train, y_train)\n",
    "y_pred = regressor.predict(X_test)"
   ]
  },
  {
   "cell_type": "markdown",
   "id": "80ae652c-63fe-4e17-9454-d8fbde9b3ed8",
   "metadata": {},
   "source": [
    "**Ridge**"
   ]
  },
  {
   "cell_type": "code",
   "execution_count": 29,
   "id": "d1604ac5-59b2-4d2a-b38a-3f71d5504bd5",
   "metadata": {},
   "outputs": [
    {
     "name": "stdout",
     "output_type": "stream",
     "text": [
      "-99.75740219504479\n",
      "{'ridge__alpha': 0.1}\n"
     ]
    }
   ],
   "source": [
    "# Use GridSearchCV to find the optimal parameters\n",
    "from sklearn.linear_model import Ridge\n",
    "from sklearn.model_selection import TimeSeriesSplit, GridSearchCV\n",
    "from sklearn.pipeline import Pipeline\n",
    "from sklearn.preprocessing import StandardScaler\n",
    "\n",
    "parameters = [\n",
    "        {'ridge__alpha': [0.1, 0.01, 0.001]},\n",
    "        ]\n",
    "\n",
    "pipeline = Pipeline([\n",
    "    ('scaler', StandardScaler()),\n",
    "    ('ridge', Ridge())\n",
    "])\n",
    "\n",
    "tscv = TimeSeriesSplit(n_splits=5)\n",
    "\n",
    "grid_search = GridSearchCV(estimator = pipeline,\n",
    "                           param_grid = parameters,\n",
    "                           cv = tscv)\n",
    "grid_search = grid_search.fit(X, y.ravel())\n",
    "best_accuracy = grid_search.best_score_\n",
    "best_parameters = grid_search.best_params_\n",
    "\n",
    "print(best_parameters)"
   ]
  },
  {
   "cell_type": "code",
   "execution_count": null,
   "id": "bbfa5b8e-600e-435e-b289-2b6f408fdcc4",
   "metadata": {},
   "outputs": [],
   "source": [
    "# training model\n",
    "from sklearn.linear_model import Ridge\n",
    "from sklearn.model_selection import train_test_split\n",
    "from sklearn.preprocessing import StandardScaler\n",
    "\n",
    "\n",
    "X_train, X_test, y_train, y_test = train_test_split(X, y, test_size = 0.2, random_state = 0, shuffle = False)\n",
    "\n",
    "scaler_X = StandardScaler()\n",
    "X_train = scaler_X.fit_transform(X_train)\n",
    "X_test = scaler_X.transform(X_test)\n",
    "\n",
    "scaler_y = StandardScaler()\n",
    "y_train = scaler_y.fit_transform(y_train.reshape(-1, 1))\n",
    "y_test = scaler_y.transform(y_test.reshape(-1, 1))\n",
    "regressor = Ridge(alpha=0.1)\n",
    "regressor.fit(X_train, y_train)\n",
    "y_pred = regressor.predict(X_test)"
   ]
  },
  {
   "cell_type": "markdown",
   "id": "b04c186f-551c-49e6-8c1d-a9a858d44f03",
   "metadata": {},
   "source": [
    "**SGDRegressor**"
   ]
  },
  {
   "cell_type": "code",
   "execution_count": null,
   "id": "840c240b-67c8-468b-8c35-6ff4256015ad",
   "metadata": {},
   "outputs": [],
   "source": [
    "# Use GridSearchCV to find the optimal parameters\n",
    "from sklearn.linear_model import SGDRegressor\n",
    "from sklearn.preprocessing import StandardScaler\n",
    "from sklearn.pipeline import Pipeline\n",
    "from sklearn.model_selection import TimeSeriesSplit, GridSearchCV\n",
    "\n",
    "\n",
    "pipeline = Pipeline([\n",
    "    ('scaler', StandardScaler()),  \n",
    "    ('sgd', SGDRegressor(loss=\"squared_error\", fit_intercept=True, learning_rate='invscaling'))  \n",
    "])\n",
    "\n",
    "parameters = {\n",
    "    'sgd__eta0': [0.00001, 0.0001, 0.001, 0.01, 0.1]\n",
    "}\n",
    "\n",
    "tscv = TimeSeriesSplit(n_splits=5)\n",
    "\n",
    "grid_search = GridSearchCV(estimator = pipeline,\n",
    "                           param_grid = parameters,\n",
    "                           scoring='neg_mean_squared_error',\n",
    "                           cv = tscv)\n",
    "grid_search = grid_search.fit(X, y.ravel())\n",
    "best_accuracy = grid_search.best_score_\n",
    "best_parameters = grid_search.best_params_\n",
    "\n",
    "print(best_accuracy)\n",
    "print(best_parameters)"
   ]
  },
  {
   "cell_type": "code",
   "execution_count": null,
   "id": "a3a45c52-6a64-4927-96b8-ff4faf9f7d5e",
   "metadata": {},
   "outputs": [],
   "source": [
    "# training model\n",
    "from sklearn.linear_model import SGDRegressor\n",
    "from sklearn.model_selection import train_test_split\n",
    "from sklearn.preprocessing import StandardScaler\n",
    "\n",
    "\n",
    "X_train, X_test, y_train, y_test = train_test_split(X, y, test_size = 0.2, random_state = 0, shuffle = False)\n",
    "\n",
    "scaler_X = StandardScaler()\n",
    "X_train = scaler_X.fit_transform(X_train)\n",
    "X_test = scaler_X.transform(X_test)\n",
    "\n",
    "scaler_y = StandardScaler()\n",
    "y_train = scaler_y.fit_transform(y_train.reshape(-1, 1))\n",
    "y_test = scaler_y.transform(y_test.reshape(-1, 1))\n",
    "\n",
    "regressor = SGDRegressor(loss=\"squared_error\", fit_intercept=True, learning_rate='invscaling', eta0=0.1)\n",
    "regressor.fit(X_train, y_train)\n",
    "y_pred = regressor.predict(X_test)"
   ]
  },
  {
   "cell_type": "markdown",
   "id": "ee331445-bd12-47b9-a23e-42724b3207a8",
   "metadata": {},
   "source": [
    "**SVR**"
   ]
  },
  {
   "cell_type": "code",
   "execution_count": null,
   "id": "1dd0b135-2405-4b35-8ac9-0dcb017e7671",
   "metadata": {},
   "outputs": [],
   "source": [
    "# Use GridSearchCV to find the optimal parameters\n",
    "from sklearn.svm import SVR\n",
    "from sklearn.model_selection import TimeSeriesSplit, GridSearchCV\n",
    "from sklearn.pipeline import Pipeline\n",
    "\n",
    "pipeline = Pipeline([\n",
    "    ('scaler', StandardScaler()),  \n",
    "    ('svr', SVR(kernel='linear'))  \n",
    "])\n",
    "\n",
    "parameters = {\n",
    "    'svr__C': [10, 100, 1000, 10000]\n",
    "}\n",
    "\n",
    "tscv = TimeSeriesSplit(n_splits=5)\n",
    "\n",
    "grid_search = GridSearchCV(estimator = pipeline,\n",
    "                           param_grid = parameters,\n",
    "                           scoring='neg_mean_squared_error',\n",
    "                           cv = tscv)\n",
    "grid_search = grid_search.fit(X, y.ravel())\n",
    "best_accuracy = grid_search.best_score_\n",
    "best_parameters = grid_search.best_params_\n",
    "\n",
    "print(best_accuracy)\n",
    "print(best_parameters)"
   ]
  },
  {
   "cell_type": "code",
   "execution_count": null,
   "id": "2784f56f-4370-4241-ab60-3c6e196a4a2d",
   "metadata": {},
   "outputs": [],
   "source": [
    "# Use GridSearchCV to find the optimal parameters\n",
    "from sklearn.svm import SVR\n",
    "from sklearn.model_selection import TimeSeriesSplit, GridSearchCV\n",
    "from sklearn.pipeline import Pipeline\n",
    "from sklearn.preprocessing import StandardScaler\n",
    "\n",
    "pipeline = Pipeline([\n",
    "    ('scaler', StandardScaler()),  \n",
    "    ('svr', SVR(kernel='rbf'))  \n",
    "])\n",
    "\n",
    "parameters = {\n",
    "    'svr__C': [10, 100, 1000, 10000],\n",
    "    'svr__gamma': [0.1, 0.01, 0.001]\n",
    "}\n",
    "\n",
    "tscv = TimeSeriesSplit(n_splits=5)\n",
    "\n",
    "grid_search = GridSearchCV(estimator = pipeline,\n",
    "                           param_grid = parameters,\n",
    "                           scoring='neg_mean_squared_error',\n",
    "                           cv = tscv)\n",
    "grid_search = grid_search.fit(X, y.ravel())\n",
    "best_accuracy = grid_search.best_score_\n",
    "best_parameters = grid_search.best_params_\n",
    "\n",
    "print(best_accuracy)\n",
    "print(best_parameters)"
   ]
  },
  {
   "cell_type": "code",
   "execution_count": null,
   "id": "5303db9c-4cc0-4751-832b-583ddc4d1165",
   "metadata": {},
   "outputs": [],
   "source": [
    "# training model\n",
    "from sklearn.svm import SVR\n",
    "from sklearn.model_selection import train_test_split\n",
    "from sklearn.preprocessing import StandardScaler\n",
    "\n",
    "\n",
    "X_train, X_test, y_train, y_test = train_test_split(X, y, test_size = 0.2, random_state = 0, shuffle = False)\n",
    "\n",
    "scaler_X = StandardScaler()\n",
    "X_train = scaler_X.fit_transform(X_train)\n",
    "X_test = scaler_X.transform(X_test)\n",
    "\n",
    "scaler_y = StandardScaler()\n",
    "y_train = scaler_y.fit_transform(y_train.reshape(-1, 1))\n",
    "y_test = scaler_y.transform(y_test.reshape(-1, 1))\n",
    "# regressor = SVR(kernel='linear', C=10000)\n",
    "regressor = SVR(kernel='rbf', C=10000, gamma=0.1)\n",
    "regressor.fit(X_train, y_train)\n",
    "y_pred = regressor.predict(X_test)"
   ]
  },
  {
   "cell_type": "markdown",
   "id": "40e9f886-e702-44d0-b838-387d3bc0f617",
   "metadata": {},
   "source": [
    "**RandomForestRegressor**"
   ]
  },
  {
   "cell_type": "code",
   "execution_count": null,
   "id": "1ca47825-49ab-42f9-b13d-5a31362463e1",
   "metadata": {},
   "outputs": [],
   "source": [
    "# Use GridSearchCV to find the optimal parameters\n",
    "from sklearn.ensemble import RandomForestRegressor\n",
    "from sklearn.preprocessing import StandardScaler\n",
    "from sklearn.pipeline import Pipeline\n",
    "from sklearn.model_selection import TimeSeriesSplit, GridSearchCV\n",
    "\n",
    "\n",
    "pipeline = Pipeline([\n",
    "    ('scaler', StandardScaler()),  \n",
    "    ('rf', RandomForestRegressor())  \n",
    "])\n",
    "\n",
    "parameters = {\n",
    "    'rf__n_estimators': [50, 100, 150, 200],\n",
    "    'rf__max_depth': [10, 15, 20, 25, 30]\n",
    "    # 'rf__min_samples_split': [2, 5, 10],\n",
    "    # 'rf__min_samples_leaf': [1, 2, 4]\n",
    "}\n",
    "\n",
    "tscv = TimeSeriesSplit(n_splits=5)\n",
    "\n",
    "grid_search = GridSearchCV(estimator = pipeline,\n",
    "                           param_grid = parameters,\n",
    "                           scoring='neg_mean_squared_error',\n",
    "                           cv = tscv)\n",
    "grid_search = grid_search.fit(X, y.ravel())\n",
    "best_accuracy = grid_search.best_score_\n",
    "best_parameters = grid_search.best_params_\n",
    "\n",
    "print(best_accuracy)\n",
    "print(best_parameters)"
   ]
  },
  {
   "cell_type": "code",
   "execution_count": null,
   "id": "4acf021f-49e1-4ab5-b14c-7b40a8eeb238",
   "metadata": {},
   "outputs": [],
   "source": [
    "# training model\n",
    "from sklearn.ensemble import RandomForestRegressor\n",
    "from sklearn.model_selection import train_test_split\n",
    "from sklearn.preprocessing import StandardScaler\n",
    "\n",
    "\n",
    "X_train, X_test, y_train, y_test = train_test_split(X, y, test_size = 0.2, random_state = 0, shuffle = False)\n",
    "\n",
    "scaler_X = StandardScaler()\n",
    "X_train = scaler_X.fit_transform(X_train)\n",
    "X_test = scaler_X.transform(X_test)\n",
    "\n",
    "scaler_y = StandardScaler()\n",
    "y_train = scaler_y.fit_transform(y_train.reshape(-1, 1))\n",
    "y_test = scaler_y.transform(y_test.reshape(-1, 1))\n",
    "\n",
    "regressor = RandomForestRegressor(n_estimators=50, max_depth=25)\n",
    "regressor.fit(X_train, y_train)\n",
    "y_pred = regressor.predict(X_test)"
   ]
  },
  {
   "cell_type": "markdown",
   "id": "1122ddb0-d55b-433c-8827-87528ac6ee49",
   "metadata": {},
   "source": [
    "**反标准化**"
   ]
  },
  {
   "cell_type": "code",
   "execution_count": 21,
   "id": "ea8f3e10-d867-46cc-b30f-979343d2670c",
   "metadata": {},
   "outputs": [
    {
     "data": {
      "image/png": "[encoded data removed]",
      "text/plain": [
       "<Figure size 1000x600 with 1 Axes>"
      ]
     },
     "metadata": {},
     "output_type": "display_data"
    },
    {
     "name": "stdout",
     "output_type": "stream",
     "text": [
      "MAE:653.8540143522072\n",
      "RMSE:788.6827372012852\n",
      "MAPE:2.5482442878396716\n"
     ]
    }
   ],
   "source": [
    "from matplotlib import pyplot as plt\n",
    "from sklearn.metrics import mean_absolute_error, mean_squared_error, r2_score\n",
    "\n",
    "y_pred = scaler_y.inverse_transform(y_pred.reshape(-1, 1))\n",
    "y_test = scaler_y.inverse_transform(y_test)\n",
    "\n",
    "\n",
    "mae = mean_absolute_error(y_test, y_pred)\n",
    "rmse = np.sqrt(mean_squared_error(y_test, y_pred))\n",
    "mape = np.mean(np.abs((y_test - y_pred) / y_test)) * 100\n",
    "\n",
    "# plt.figure(figsize=(10, 6))\n",
    "# plt.plot(y_test, label='y_test')\n",
    "# plt.plot(y_pred, label='y_pred')\n",
    "# plt.legend()\n",
    "# plt.show()\n",
    "\n",
    "print(f'MAE:{mae}')\n",
    "print(f'RMSE:{rmse}')\n",
    "print(f'MAPE:{mape}')\n",
    " "
   ]
  },
  {
   "cell_type": "code",
   "execution_count": null,
   "id": "30fcb0b8-5468-43d1-a968-f109cb3a301a",
   "metadata": {},
   "outputs": [],
   "source": []
  }
 ],
 "metadata": {
  "kernelspec": {
   "display_name": "Python 3 (ipykernel)",
   "language": "python",
   "name": "python3"
  },
  "language_info": {
   "codemirror_mode": {
    "name": "ipython",
    "version": 3
   },
   "file_extension": ".py",
   "mimetype": "text/x-python",
   "name": "python",
   "nbconvert_exporter": "python",
   "pygments_lexer": "ipython3",
   "version": "3.8.19"
  }
 },
 "nbformat": 4,
 "nbformat_minor": 5
}
